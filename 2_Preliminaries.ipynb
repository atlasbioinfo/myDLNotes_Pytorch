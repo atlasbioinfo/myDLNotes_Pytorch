{
 "cells": [
  {
   "cell_type": "markdown",
   "metadata": {},
   "source": [
    "## Preliminaries\n",
    "\n",
    "```python\n",
    "1. torch.arange: generate increasing sequence, return \"tensor\"\n",
    "\n",
    "2. tensor.shape: shape\n",
    "3. tensor.numel:\n",
    "3. tensor.reshape(others,row,col)\n",
    "```"
   ]
  },
  {
   "cell_type": "code",
   "execution_count": 16,
   "metadata": {},
   "outputs": [
    {
     "name": "stdout",
     "output_type": "stream",
     "text": [
      "tensor([ 0,  1,  2,  3,  4,  5,  6,  7,  8,  9, 10, 11])\n",
      "torch.Size([12])\n",
      "12\n",
      "tensor([[ 0,  1,  2,  3],\n",
      "        [ 4,  5,  6,  7],\n",
      "        [ 8,  9, 10, 11]])\n",
      "torch.Size([3, 4])\n",
      "<built-in method numel of Tensor object at 0x7f6ffe0a7e00>\n",
      "tensor([[[0., 0., 0., 0.],\n",
      "         [0., 0., 0., 0.],\n",
      "         [0., 0., 0., 0.]],\n",
      "\n",
      "        [[0., 0., 0., 0.],\n",
      "         [0., 0., 0., 0.],\n",
      "         [0., 0., 0., 0.]]])\n",
      "tensor([[1., 1.],\n",
      "        [1., 1.]])\n",
      "tensor([[0.7624, 0.7603],\n",
      "        [0.7381, 0.9149]])\n",
      "tensor([[ 0.5657, -0.8454],\n",
      "        [ 1.0570, -1.2559]])\n"
     ]
    }
   ],
   "source": [
    "import torch\n",
    "x=torch.arange(12)\n",
    "print(x)\n",
    "print(x.shape)\n",
    "print(x.numel())\n",
    "X=x.reshape(3,4)\n",
    "print(X)\n",
    "print(X.shape)\n",
    "print(X.numel)\n",
    "print(torch.zeros((2,3,4)))\n",
    "print(torch.ones(2,2))\n",
    "print(torch.rand(2,2))\n",
    "print(torch.randn(2,2))"
   ]
  }
 ],
 "metadata": {
  "kernelspec": {
   "display_name": "Python 3",
   "language": "python",
   "name": "python3"
  },
  "language_info": {
   "codemirror_mode": {
    "name": "ipython",
    "version": 3
   },
   "file_extension": ".py",
   "mimetype": "text/x-python",
   "name": "python",
   "nbconvert_exporter": "python",
   "pygments_lexer": "ipython3",
   "version": "3.8.5"
  }
 },
 "nbformat": 4,
 "nbformat_minor": 4
}
