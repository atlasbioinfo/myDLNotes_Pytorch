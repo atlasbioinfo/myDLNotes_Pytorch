{
 "cells": [
  {
   "cell_type": "markdown",
   "metadata": {},
   "source": [
    "```\n",
    "Machine learning is the study of powerful techniques that can learn from experience. \n",
    "```"
   ]
  },
  {
   "cell_type": "markdown",
   "metadata": {
    "collapsed": true
   },
   "source": [
    "这一章主要讲原理，不涉及技术细节。\n",
    "最大的收获有几点：\n",
    "1. 机器学习是从经验中提取规律的。也就是说，需要有明确的经验才可以，不能让模型推测完全未知的事情。\n",
    "比如已经让模型知道了在自动驾驶汽车镜头前如果出现人或者自行车要刹车等待，但是模型无法推测看到一个塑料袋后可以压过去这种经验。\n",
    "2. 机器学习的训练需要去噪音。如果训练数据包含极大噪音是无法训练的。\n"
   ]
  }
 ],
 "metadata": {
  "kernelspec": {
   "display_name": "Python 3",
   "language": "python",
   "name": "python3"
  },
  "language_info": {
   "codemirror_mode": {
    "name": "ipython",
    "version": 3
   },
   "file_extension": ".py",
   "mimetype": "text/x-python",
   "name": "python",
   "nbconvert_exporter": "python",
   "pygments_lexer": "ipython3",
   "version": "3.6.12"
  }
 },
 "nbformat": 4,
 "nbformat_minor": 2
}
