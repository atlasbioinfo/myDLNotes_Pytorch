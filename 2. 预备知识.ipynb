{
 "cells": [
  {
   "attachments": {},
   "cell_type": "markdown",
   "id": "aboriginal-notification",
   "metadata": {},
   "source": [
    "# 2. 预备知识\n",
    "\n",
    "```\n",
    "path: /blog/20210222/\n",
    "```\n",
    "pytorch的安装：\n",
    "https://pytorch.org/\n",
    "\n",
    "选择对应的版本：\n",
    "\n",
    "![install.png](https://pic.atlasbioinfo.com//blog/20210222/Snipaste_2021-02-22_09-53-44.png)\n",
    "\n",
    "## 2.2 数据操作"
   ]
  },
  {
   "cell_type": "code",
   "execution_count": 7,
   "id": "beautiful-priest",
   "metadata": {},
   "outputs": [
    {
     "data": {
      "text/plain": [
       "tensor([[7957688336701796208, 8319958742476218724, 7521981625659912239],\n",
       "        [8392862729398479919, 8299912210326384488, 7738135719178499177],\n",
       "        [8245937189886977889, 7795557684927752291, 6874854174328382057],\n",
       "        [3109858083190698083, 3689686583958992944, 3991939109057404969],\n",
       "        [3775814413465248358,               23859,                   0]])"
      ]
     },
     "execution_count": 7,
     "metadata": {},
     "output_type": "execute_result"
    }
   ],
   "source": [
    "### 2.2.1 创建tensor\n",
    "import torch\n",
    "#空tensor\n",
    "torch.empty(5,3,dtype=torch.long)"
   ]
  },
  {
   "cell_type": "markdown",
   "id": "noticed-recorder",
   "metadata": {},
   "source": [
    "### Torch中的dtype\n",
    "\n",
    "| Data type | dtype |\n",
    "| :---- | ----: |\n",
    "| 32-bit floating point | torch.float32 or torch.float |\n",
    "| 64-bit floating point | torch.float64 or torch.double |\n",
    "| 64-bit complex | torch.complex64 or torch.cfloat |\n",
    "| 128-bit complex | torch.complex128 or torch.cdouble |\n",
    "| 16-bit floating point 1 | torch.float16 or torch.half |\n",
    "| 16-bit floating point 2 | torch.bfloat16 |\n",
    "| 8-bit integer (unsigned) | torch.uint8 |\n",
    "| 8-bit integer (signed) | torch.int8 |\n",
    "| 16-bit integer (signed) | torch.int16 or torch.short |\n",
    "| 32-bit integer (signed) | torch.int32 or torch.int |\n",
    "| 64-bit integer (signed) | torch.int64 or torch.long |\n",
    "| Boolean | torch.bool |\n",
    "\n",
    "估计常用的：\n",
    "* torch.float\n",
    "* torch.double\n",
    "* torch.int\n",
    "* torch.long\n",
    "* torch.bool\n",
    "\n",
    "\n"
   ]
  },
  {
   "cell_type": "code",
   "execution_count": null,
   "id": "micro-postage",
   "metadata": {},
   "outputs": [],
   "source": [
    "#随机tensor\n",
    "randExample=torch.rand(5,3)\n",
    "print(randExample)"
   ]
  }
 ],
 "metadata": {
  "kernelspec": {
   "display_name": "Python 3",
   "language": "python",
   "name": "python3"
  },
  "language_info": {
   "codemirror_mode": {
    "name": "ipython",
    "version": 3
   },
   "file_extension": ".py",
   "mimetype": "text/x-python",
   "name": "python",
   "nbconvert_exporter": "python",
   "pygments_lexer": "ipython3",
   "version": "3.6.13"
  }
 },
 "nbformat": 4,
 "nbformat_minor": 5
}
